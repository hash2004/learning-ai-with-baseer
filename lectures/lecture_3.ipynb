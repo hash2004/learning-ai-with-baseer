{
 "cells": [
  {
   "cell_type": "code",
   "execution_count": 16,
   "metadata": {},
   "outputs": [
    {
     "name": "stdout",
     "output_type": "stream",
     "text": [
      "6\n"
     ]
    }
   ],
   "source": [
    "s = \"baseer\"\n",
    "print (len(s))"
   ]
  },
  {
   "cell_type": "code",
   "execution_count": 7,
   "metadata": {},
   "outputs": [
    {
     "data": {
      "text/plain": [
       "'r'"
      ]
     },
     "execution_count": 7,
     "metadata": {},
     "output_type": "execute_result"
    }
   ],
   "source": [
    "s[-1]"
   ]
  },
  {
   "cell_type": "code",
   "execution_count": 9,
   "metadata": {},
   "outputs": [
    {
     "data": {
      "text/plain": [
       "'ae'"
      ]
     },
     "execution_count": 9,
     "metadata": {},
     "output_type": "execute_result"
    }
   ],
   "source": [
    "s[1:5:2]"
   ]
  },
  {
   "cell_type": "code",
   "execution_count": 11,
   "metadata": {},
   "outputs": [
    {
     "data": {
      "text/plain": [
       "'es'"
      ]
     },
     "execution_count": 11,
     "metadata": {},
     "output_type": "execute_result"
    }
   ],
   "source": [
    "s[4:1:-2]"
   ]
  },
  {
   "cell_type": "code",
   "execution_count": 14,
   "metadata": {},
   "outputs": [
    {
     "ename": "TypeError",
     "evalue": "'str' object does not support item assignment",
     "output_type": "error",
     "traceback": [
      "\u001b[0;31m---------------------------------------------------------------------------\u001b[0m",
      "\u001b[0;31mTypeError\u001b[0m                                 Traceback (most recent call last)",
      "Cell \u001b[0;32mIn[14], line 1\u001b[0m\n\u001b[0;32m----> 1\u001b[0m \u001b[43ms\u001b[49m\u001b[43m[\u001b[49m\u001b[38;5;241;43m0\u001b[39;49m\u001b[43m]\u001b[49m \u001b[38;5;241m=\u001b[39m \u001b[38;5;124m'\u001b[39m\u001b[38;5;124my\u001b[39m\u001b[38;5;124m'\u001b[39m\n",
      "\u001b[0;31mTypeError\u001b[0m: 'str' object does not support item assignment"
     ]
    }
   ],
   "source": [
    "s[0] = 'y'"
   ]
  },
  {
   "cell_type": "code",
   "execution_count": 17,
   "metadata": {},
   "outputs": [
    {
     "data": {
      "text/plain": [
       "'aseer'"
      ]
     },
     "execution_count": 17,
     "metadata": {},
     "output_type": "execute_result"
    }
   ],
   "source": [
    "s[1:6]"
   ]
  },
  {
   "cell_type": "code",
   "execution_count": 20,
   "metadata": {},
   "outputs": [
    {
     "data": {
      "text/plain": [
       "6"
      ]
     },
     "execution_count": 20,
     "metadata": {},
     "output_type": "execute_result"
    }
   ],
   "source": [
    "len(s)"
   ]
  },
  {
   "cell_type": "code",
   "execution_count": 21,
   "metadata": {},
   "outputs": [
    {
     "data": {
      "text/plain": [
       "'aseer'"
      ]
     },
     "execution_count": 21,
     "metadata": {},
     "output_type": "execute_result"
    }
   ],
   "source": [
    "s[1:len(s)]"
   ]
  },
  {
   "cell_type": "markdown",
   "metadata": {},
   "source": [
    "b 0\n",
    "a 1\n",
    "s 2\n",
    "e 3\n",
    "e 4\n",
    "r 5"
   ]
  },
  {
   "cell_type": "code",
   "execution_count": 18,
   "metadata": {},
   "outputs": [
    {
     "data": {
      "text/plain": [
       "'yaseer'"
      ]
     },
     "execution_count": 18,
     "metadata": {},
     "output_type": "execute_result"
    }
   ],
   "source": [
    "s = 'y'+s[1:len(s)]\n",
    "s"
   ]
  },
  {
   "cell_type": "code",
   "execution_count": 24,
   "metadata": {},
   "outputs": [],
   "source": [
    "an_letters = \"aefhilmnorsx\""
   ]
  },
  {
   "cell_type": "code",
   "execution_count": 26,
   "metadata": {},
   "outputs": [],
   "source": [
    "word = input(\"I will cheer for you! Enter a word: \")\n",
    "times = int(input(\"Enthusiasm level (1-10): \"))"
   ]
  },
  {
   "cell_type": "code",
   "execution_count": 27,
   "metadata": {},
   "outputs": [
    {
     "data": {
      "text/plain": [
       "'food'"
      ]
     },
     "execution_count": 27,
     "metadata": {},
     "output_type": "execute_result"
    }
   ],
   "source": [
    "word"
   ]
  },
  {
   "cell_type": "code",
   "execution_count": 32,
   "metadata": {},
   "outputs": [
    {
     "data": {
      "text/plain": [
       "3"
      ]
     },
     "execution_count": 32,
     "metadata": {},
     "output_type": "execute_result"
    }
   ],
   "source": [
    "times"
   ]
  },
  {
   "cell_type": "code",
   "execution_count": 29,
   "metadata": {},
   "outputs": [
    {
     "name": "stdout",
     "output_type": "stream",
     "text": [
      "Give me a f! f\n",
      "Give me a f! f\n",
      "Give me an f! f\n",
      "Give me a f! f\n",
      "Give me a f! f\n",
      "Give me a f! f\n",
      "Give me a f! f\n",
      "Give me a f! f\n",
      "Give me a f! f\n",
      "Give me a f! f\n",
      "Give me a f! f\n",
      "Give me a f! f\n",
      "Give me a o! o\n",
      "Give me a o! o\n",
      "Give me a o! o\n",
      "Give me a o! o\n",
      "Give me a o! o\n",
      "Give me a o! o\n",
      "Give me a o! o\n",
      "Give me a o! o\n",
      "Give me an o! o\n",
      "Give me a o! o\n",
      "Give me a o! o\n",
      "Give me a o! o\n",
      "Give me a o! o\n",
      "Give me a o! o\n",
      "Give me a o! o\n",
      "Give me a o! o\n",
      "Give me a o! o\n",
      "Give me a o! o\n",
      "Give me a o! o\n",
      "Give me a o! o\n",
      "Give me an o! o\n",
      "Give me a o! o\n",
      "Give me a o! o\n",
      "Give me a o! o\n",
      "Give me a d! d\n",
      "Give me a d! d\n",
      "Give me a d! d\n",
      "Give me a d! d\n",
      "Give me a d! d\n",
      "Give me a d! d\n",
      "Give me a d! d\n",
      "Give me a d! d\n",
      "Give me a d! d\n",
      "Give me a d! d\n",
      "Give me a d! d\n",
      "Give me a d! d\n"
     ]
    }
   ],
   "source": [
    "for i in range(len(word)):\n",
    "    for j in range(len(an_letters)):\n",
    "        if word[i] == an_letters[j]:\n",
    "            print(\"Give me an \" + word[i] + \"! \" + word[i])\n",
    "        else:\n",
    "            print(\"Give me a \" + word[i] + \"! \" + word[i])"
   ]
  },
  {
   "cell_type": "code",
   "execution_count": 28,
   "metadata": {},
   "outputs": [
    {
     "name": "stdout",
     "output_type": "stream",
     "text": [
      "Give me an f! f\n",
      "Give me an o! o\n",
      "Give me an o! o\n",
      "Give me a d! d\n"
     ]
    }
   ],
   "source": [
    "for i in range(len(word)):\n",
    "    if word[i] in an_letters:\n",
    "        print(\"Give me an \" + word[i] + \"! \" + word[i])\n",
    "    else:\n",
    "        print(\"Give me a \" + word[i] + \"! \" + word[i])"
   ]
  },
  {
   "cell_type": "code",
   "execution_count": 31,
   "metadata": {},
   "outputs": [
    {
     "name": "stdout",
     "output_type": "stream",
     "text": [
      "Give me an f! f\n",
      "Give me an o! o\n",
      "Give me an o! o\n",
      "Give me a d! d\n"
     ]
    }
   ],
   "source": [
    "i = 0\n",
    "while i < len(word):\n",
    "    char = word[i]\n",
    "    if char in an_letters:\n",
    "        print(\"Give me an \" + char + \"! \" + char)\n",
    "    else:\n",
    "        print(\"Give me a \" + char + \"! \" + char)\n",
    "    i += 1"
   ]
  },
  {
   "cell_type": "markdown",
   "metadata": {},
   "source": [
    "what does that spell? \n",
    "times = 3\n",
    "Food! \n",
    "Food! \n",
    "Food!"
   ]
  },
  {
   "cell_type": "code",
   "execution_count": 33,
   "metadata": {},
   "outputs": [
    {
     "name": "stdout",
     "output_type": "stream",
     "text": [
      "What does that spell?\n",
      "food !!!\n",
      "food !!!\n",
      "food !!!\n"
     ]
    }
   ],
   "source": [
    "print(\"What does that spell?\")\n",
    "for i in range(times):\n",
    "    print(word, \"!!!\")"
   ]
  },
  {
   "cell_type": "markdown",
   "metadata": {},
   "source": [
    "char1 = i\n",
    "char2 = i"
   ]
  },
  {
   "cell_type": "code",
   "execution_count": 37,
   "metadata": {},
   "outputs": [
    {
     "name": "stdout",
     "output_type": "stream",
     "text": [
      "common letter\n",
      "common letter\n",
      "common letter\n",
      "common letter\n",
      "common letter\n",
      "common letter\n",
      "common letter\n",
      "common letter\n",
      "common letter\n",
      "common letter\n"
     ]
    }
   ],
   "source": [
    "s1 = \"mit u rock\"\n",
    "s2 = \"i rule mit\"\n",
    "\n",
    "if len(s1) == len(s2):\n",
    "    for char1 in s1:\n",
    "        for char2 in s2:\n",
    "            if char1 == char2:\n",
    "                print(\"common letter\")\n",
    "                break\n",
    "else:\n",
    "    print(\"Strings are of different lengths.\")"
   ]
  },
  {
   "cell_type": "code",
   "execution_count": 38,
   "metadata": {},
   "outputs": [],
   "source": [
    "cube = 8"
   ]
  },
  {
   "cell_type": "markdown",
   "metadata": {},
   "source": [
    "start with 0\n",
    "multiply 0 ** 3 \n",
    "this new value == 8\n",
    "0->1"
   ]
  },
  {
   "cell_type": "markdown",
   "metadata": {},
   "source": [
    "cube = 1"
   ]
  },
  {
   "cell_type": "code",
   "execution_count": 40,
   "metadata": {},
   "outputs": [],
   "source": [
    "cube = 1"
   ]
  },
  {
   "cell_type": "code",
   "execution_count": 42,
   "metadata": {},
   "outputs": [],
   "source": [
    "for guess in range(cube + 1):\n",
    "    if guess**3 == cube:\n",
    "        print(\"Cube root of\", cube, \"is\", guess)"
   ]
  },
  {
   "cell_type": "code",
   "execution_count": 44,
   "metadata": {},
   "outputs": [
    {
     "name": "stdout",
     "output_type": "stream",
     "text": [
      "Cube root of -27 is -3\n"
     ]
    }
   ],
   "source": [
    "cube = -27  \n",
    "abs_cube = abs(cube)\n",
    "\n",
    "for guess in range(abs_cube + 1):\n",
    "    if guess**3 == abs_cube:\n",
    "        if cube < 0:\n",
    "            guess = -guess\n",
    "        print('Cube root of', cube, 'is', guess)\n",
    "        break\n",
    "else:\n",
    "    print(cube, 'is not a perfect cube')\n"
   ]
  },
  {
   "cell_type": "markdown",
   "metadata": {},
   "source": [
    "## Approximate Solutions\n",
    "Sometimes, it's challenging or impossible to find an exact solution. In such cases, we can look for an approximate solution that's \"good enough\" within a specified tolerance (epsilon)."
   ]
  },
  {
   "cell_type": "code",
   "execution_count": null,
   "metadata": {},
   "outputs": [],
   "source": [
    "cube = 27\n",
    "epsilon = 0.01\n",
    "guess = 0.0\n",
    "increment = 0.0001\n",
    "num_guesses = 0"
   ]
  },
  {
   "cell_type": "code",
   "execution_count": null,
   "metadata": {},
   "outputs": [],
   "source": [
    "while abs(guess**3 - cube) >= epsilon and guess <= cube:\n",
    "    guess += increment\n",
    "    num_guesses += 1"
   ]
  },
  {
   "cell_type": "code",
   "execution_count": null,
   "metadata": {},
   "outputs": [],
   "source": [
    "if abs(guess**3 - cube) >= epsilon:\n",
    "    print('Failed on cube root of', cube)\n",
    "else:\n",
    "    print(guess, 'is close to the cube root of', cube)"
   ]
  },
  {
   "cell_type": "markdown",
   "metadata": {},
   "source": [
    "## Bisection Search\n",
    "Bisection Search is an efficient algorithm for finding a value within a sorted range by repeatedly dividing the search interval in half. It's especially useful for finding approximate solutions quickly.\n",
    "\n",
    "Cube Root Example Using Bisection Search\n",
    "We'll implement the Bisection Search method to find the cube root of a number."
   ]
  },
  {
   "cell_type": "code",
   "execution_count": null,
   "metadata": {},
   "outputs": [],
   "source": [
    "cube = 27\n",
    "epsilon = 0.01\n",
    "num_guesses = 0\n",
    "low = 0\n",
    "high = cube\n",
    "guess = (high + low) / 2.0"
   ]
  },
  {
   "cell_type": "code",
   "execution_count": null,
   "metadata": {},
   "outputs": [],
   "source": [
    "while abs(guess**3 - cube) >= epsilon:\n",
    "    if guess**3 < cube:\n",
    "        low = guess\n",
    "    else:\n",
    "        high = guess\n",
    "    guess = (high + low) / 2.0\n",
    "    num_guesses += 1"
   ]
  },
  {
   "cell_type": "code",
   "execution_count": null,
   "metadata": {},
   "outputs": [],
   "source": [
    "print('Number of guesses =', num_guesses)\n",
    "print(guess, 'is close to the cube root of', cube)"
   ]
  }
 ],
 "metadata": {
  "kernelspec": {
   "display_name": "learning-ai",
   "language": "python",
   "name": "python3"
  },
  "language_info": {
   "codemirror_mode": {
    "name": "ipython",
    "version": 3
   },
   "file_extension": ".py",
   "mimetype": "text/x-python",
   "name": "python",
   "nbconvert_exporter": "python",
   "pygments_lexer": "ipython3",
   "version": "3.10.15"
  }
 },
 "nbformat": 4,
 "nbformat_minor": 2
}
